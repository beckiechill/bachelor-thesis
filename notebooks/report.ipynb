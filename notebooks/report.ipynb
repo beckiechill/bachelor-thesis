{
 "cells": [
  {
   "cell_type": "markdown",
   "id": "e9a8beca",
   "metadata": {},
   "source": [
    "This notebook was created to generate the table for the thesis draft with the distribution for Pitt Corpus"
   ]
  },
  {
   "cell_type": "code",
   "execution_count": 1,
   "id": "ca1470e5",
   "metadata": {},
   "outputs": [],
   "source": [
    "# standar libraries\n",
    "import os\n",
    "import sys\n",
    "\n",
    "# third-party libraries\n",
    "import pandas as pd\n",
    "\n",
    "# local module\n",
    "sys.path.append(os.path.abspath(\"..\"))\n",
    "from project_config import from_root"
   ]
  },
  {
   "cell_type": "code",
   "execution_count": 2,
   "id": "6bac9b24",
   "metadata": {},
   "outputs": [
    {
     "name": "stdout",
     "output_type": "stream",
     "text": [
      "Total number of .cha files: 243\n",
      "Total number of .cha files: 306\n"
     ]
    }
   ],
   "source": [
    "path = from_root(\"Pitt\", \"Control\", \"cookie\")\n",
    "cha_files = 0\n",
    "for root, dirs, files in os.walk(path):\n",
    "    for file in files:\n",
    "        if file.endswith('.cha'):\n",
    "            cha_files += 1\n",
    "print(f'Total number of .cha files: {cha_files}')\n",
    "\n",
    "\n",
    "path_D = from_root(\"Pitt\", \"Dementia\", \"cookie\")\n",
    "cha_files_D = 0\n",
    "for root, dirs, files in os.walk(path_D):\n",
    "    for file in files:\n",
    "        if file.endswith('.cha'):\n",
    "            cha_files_D += 1\n",
    "\n",
    "print(f'Total number of .cha files: {(cha_files_D)}')"
   ]
  },
  {
   "cell_type": "code",
   "execution_count": 3,
   "id": "0e81ce06",
   "metadata": {},
   "outputs": [
    {
     "name": "stdout",
     "output_type": "stream",
     "text": [
      "Total number of files in pitt_ad: 306\n",
      "Total number of files in pitt_control: 243\n",
      "['ID', 'dataset', 'label', 'gender', 'age', 'mmse', 'transcription', 'disfluencies', 'pause_count', 'utterance_count']\n",
      "       ID\n",
      "1   001-0\n",
      "32  001-2\n",
      "30  003-0\n",
      "58  005-0\n",
      "38  005-2\n",
      "        ID\n",
      "70   002-0\n",
      "64   002-1\n",
      "83   002-2\n",
      "90   002-3\n",
      "106  006-2\n",
      "Unique participants in pitt_ad: 193\n",
      "Unique participants in pitt_control: 99\n"
     ]
    }
   ],
   "source": [
    "pitt_ad = pd.read_csv(from_root(\"data\", \"pitt_ad.tsv\"), sep='\\t')\n",
    "pitt_control = pd.read_csv(from_root(\"data\", \"pitt_control.tsv\"), sep='\\t')\n",
    "\n",
    "print(f'Total number of files in pitt_ad: {len(pitt_ad)}')\n",
    "print(f'Total number of files in pitt_control: {len(pitt_control)}')\n",
    "print(pitt_ad.columns.tolist())\n",
    "\n",
    "\n",
    "pitt_ad[['ID_part1', 'ID_part2']] = pitt_ad['ID'].str.split('-', expand=True).astype(int)\n",
    "pitt_ad = pitt_ad.sort_values(by=['ID_part1', 'ID_part2'])\n",
    "pitt_ad = pitt_ad.drop(columns=['ID_part1', 'ID_part2'])\n",
    "\n",
    "pitt_control[['ID_part1', 'ID_part2']] = pitt_control['ID'].str.split('-', expand=True).astype(int)\n",
    "pitt_control = pitt_control.sort_values(by=['ID_part1', 'ID_part2'])\n",
    "pitt_control = pitt_control.drop(columns=['ID_part1', 'ID_part2'])\n",
    "\n",
    "print(pitt_ad[['ID']].head())\n",
    "print(pitt_control[['ID']].head())\n",
    "\n",
    "\n",
    "pitt_ad['participant'] = pitt_ad['ID'].str.split('-').str[0]\n",
    "pitt_control['participant'] = pitt_control['ID'].str.split('-').str[0]\n",
    "\n",
    "unique_ad_count = pitt_ad['participant'].nunique()\n",
    "unique_control_count = pitt_control['participant'].nunique()\n",
    "\n",
    "print(f'Unique participants in pitt_ad: {unique_ad_count}')\n",
    "print(f'Unique participants in pitt_control: {unique_control_count}')\n"
   ]
  },
  {
   "cell_type": "code",
   "execution_count": 4,
   "id": "88d8903f",
   "metadata": {},
   "outputs": [
    {
     "name": "stdout",
     "output_type": "stream",
     "text": [
      "gender    AD_f  AD_m  HC_f  HC_m\n",
      "[45, 50)     1     0     3     0\n",
      "[50, 55)     1     4     4     5\n",
      "[55, 60)     8     6    13     6\n",
      "[60, 65)    13    10     8     8\n",
      "[65, 70)    24    12    15    10\n",
      "[70, 75)    26    12    11     8\n",
      "[75, 80)    29    19     4     3\n",
      "[80, 85)    14     4     0     1\n",
      "[85, 90)    10     0     0     0\n",
      "Total      126    67    58    41\n"
     ]
    }
   ],
   "source": [
    "pitt_ad['participant'] = pitt_ad['ID'].str.split('-').str[0]\n",
    "pitt_control['participant'] = pitt_control['ID'].str.split('-').str[0]\n",
    "\n",
    "pitt_ad_unique = pitt_ad.drop_duplicates(subset='participant')\n",
    "pitt_control_unique = pitt_control.drop_duplicates(subset='participant')\n",
    "\n",
    "bins = [45, 50, 55, 60, 65, 70, 75, 80, 85, 90]\n",
    "labels = ['[45, 50)', '[50, 55)', '[55, 60)', '[60, 65)', '[65, 70)', \n",
    "          '[70, 75)', '[75, 80)', '[80, 85)', '[85, 90)']\n",
    "\n",
    "pitt_ad_unique = pitt_ad_unique.copy()\n",
    "pitt_ad_unique.loc[:, 'age_bin'] = pd.cut(pitt_ad_unique['age'], bins=bins, labels=labels, right=False)\n",
    "\n",
    "pitt_control_unique = pitt_control_unique.copy()\n",
    "pitt_control_unique.loc[:, 'age_bin'] = pd.cut(pitt_control_unique['age'], bins=bins, labels=labels, right=False)\n",
    "\n",
    "def get_counts(df):\n",
    "    return df.groupby(['age_bin', 'gender'], observed=True).size().unstack(fill_value=0)\n",
    "\n",
    "ad_table = get_counts(pitt_ad_unique).add_prefix('AD_')\n",
    "hc_table = get_counts(pitt_control_unique).add_prefix('HC_')\n",
    "final_table = pd.concat([ad_table, hc_table], axis=1).fillna(0).astype(int)\n",
    "\n",
    "total_row = final_table.sum()\n",
    "total_row.name = 'Total'\n",
    "final_table = pd.concat([final_table, total_row.to_frame().T])\n",
    "\n",
    "print(final_table)"
   ]
  }
 ],
 "metadata": {
  "kernelspec": {
   "display_name": "spacy_env",
   "language": "python",
   "name": "python3"
  },
  "language_info": {
   "codemirror_mode": {
    "name": "ipython",
    "version": 3
   },
   "file_extension": ".py",
   "mimetype": "text/x-python",
   "name": "python",
   "nbconvert_exporter": "python",
   "pygments_lexer": "ipython3",
   "version": "3.11.11"
  }
 },
 "nbformat": 4,
 "nbformat_minor": 5
}
